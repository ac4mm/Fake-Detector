{
  "nbformat": 4,
  "nbformat_minor": 0,
  "metadata": {
    "colab": {
      "name": "cooking_dataset.ipynb",
      "provenance": [],
      "collapsed_sections": []
    },
    "kernelspec": {
      "name": "python3",
      "display_name": "Python 3"
    }
  },
  "cells": [
    {
      "cell_type": "code",
      "metadata": {
        "id": "d-VYLZeTa3XV",
        "colab_type": "code",
        "outputId": "76093dd0-9246-42db-9334-1c4e5efb1117",
        "colab": {
          "base_uri": "https://localhost:8080/",
          "height": 410
        }
      },
      "source": [
        "!pip install pytorch_pretrained_bert"
      ],
      "execution_count": 0,
      "outputs": [
        {
          "output_type": "stream",
          "text": [
            "Collecting pytorch_pretrained_bert\n",
            "\u001b[?25l  Downloading https://files.pythonhosted.org/packages/d7/e0/c08d5553b89973d9a240605b9c12404bcf8227590de62bae27acbcfe076b/pytorch_pretrained_bert-0.6.2-py3-none-any.whl (123kB)\n",
            "\r\u001b[K     |██▋                             | 10kB 16.2MB/s eta 0:00:01\r\u001b[K     |█████▎                          | 20kB 1.7MB/s eta 0:00:01\r\u001b[K     |████████                        | 30kB 2.2MB/s eta 0:00:01\r\u001b[K     |██████████▋                     | 40kB 1.6MB/s eta 0:00:01\r\u001b[K     |█████████████▎                  | 51kB 1.8MB/s eta 0:00:01\r\u001b[K     |███████████████▉                | 61kB 2.2MB/s eta 0:00:01\r\u001b[K     |██████████████████▌             | 71kB 2.4MB/s eta 0:00:01\r\u001b[K     |█████████████████████▏          | 81kB 2.5MB/s eta 0:00:01\r\u001b[K     |███████████████████████▉        | 92kB 2.8MB/s eta 0:00:01\r\u001b[K     |██████████████████████████▌     | 102kB 2.7MB/s eta 0:00:01\r\u001b[K     |█████████████████████████████▏  | 112kB 2.7MB/s eta 0:00:01\r\u001b[K     |███████████████████████████████▊| 122kB 2.7MB/s eta 0:00:01\r\u001b[K     |████████████████████████████████| 133kB 2.7MB/s \n",
            "\u001b[?25hRequirement already satisfied: tqdm in /usr/local/lib/python3.6/dist-packages (from pytorch_pretrained_bert) (4.38.0)\n",
            "Requirement already satisfied: regex in /usr/local/lib/python3.6/dist-packages (from pytorch_pretrained_bert) (2019.12.20)\n",
            "Requirement already satisfied: torch>=0.4.1 in /usr/local/lib/python3.6/dist-packages (from pytorch_pretrained_bert) (1.4.0)\n",
            "Requirement already satisfied: requests in /usr/local/lib/python3.6/dist-packages (from pytorch_pretrained_bert) (2.21.0)\n",
            "Requirement already satisfied: boto3 in /usr/local/lib/python3.6/dist-packages (from pytorch_pretrained_bert) (1.12.26)\n",
            "Requirement already satisfied: numpy in /usr/local/lib/python3.6/dist-packages (from pytorch_pretrained_bert) (1.18.2)\n",
            "Requirement already satisfied: urllib3<1.25,>=1.21.1 in /usr/local/lib/python3.6/dist-packages (from requests->pytorch_pretrained_bert) (1.24.3)\n",
            "Requirement already satisfied: chardet<3.1.0,>=3.0.2 in /usr/local/lib/python3.6/dist-packages (from requests->pytorch_pretrained_bert) (3.0.4)\n",
            "Requirement already satisfied: idna<2.9,>=2.5 in /usr/local/lib/python3.6/dist-packages (from requests->pytorch_pretrained_bert) (2.8)\n",
            "Requirement already satisfied: certifi>=2017.4.17 in /usr/local/lib/python3.6/dist-packages (from requests->pytorch_pretrained_bert) (2019.11.28)\n",
            "Requirement already satisfied: botocore<1.16.0,>=1.15.26 in /usr/local/lib/python3.6/dist-packages (from boto3->pytorch_pretrained_bert) (1.15.26)\n",
            "Requirement already satisfied: s3transfer<0.4.0,>=0.3.0 in /usr/local/lib/python3.6/dist-packages (from boto3->pytorch_pretrained_bert) (0.3.3)\n",
            "Requirement already satisfied: jmespath<1.0.0,>=0.7.1 in /usr/local/lib/python3.6/dist-packages (from boto3->pytorch_pretrained_bert) (0.9.5)\n",
            "Requirement already satisfied: python-dateutil<3.0.0,>=2.1 in /usr/local/lib/python3.6/dist-packages (from botocore<1.16.0,>=1.15.26->boto3->pytorch_pretrained_bert) (2.8.1)\n",
            "Requirement already satisfied: docutils<0.16,>=0.10 in /usr/local/lib/python3.6/dist-packages (from botocore<1.16.0,>=1.15.26->boto3->pytorch_pretrained_bert) (0.15.2)\n",
            "Requirement already satisfied: six>=1.5 in /usr/local/lib/python3.6/dist-packages (from python-dateutil<3.0.0,>=2.1->botocore<1.16.0,>=1.15.26->boto3->pytorch_pretrained_bert) (1.12.0)\n",
            "Installing collected packages: pytorch-pretrained-bert\n",
            "Successfully installed pytorch-pretrained-bert-0.6.2\n"
          ],
          "name": "stdout"
        }
      ]
    },
    {
      "cell_type": "code",
      "metadata": {
        "id": "v6fIYsQtbCtJ",
        "colab_type": "code",
        "outputId": "8f592921-1787-4f0c-d630-eda32262a28b",
        "colab": {
          "base_uri": "https://localhost:8080/",
          "height": 141
        }
      },
      "source": [
        "!pip install pytorch-nlp"
      ],
      "execution_count": 0,
      "outputs": [
        {
          "output_type": "stream",
          "text": [
            "Collecting pytorch-nlp\n",
            "\u001b[?25l  Downloading https://files.pythonhosted.org/packages/4f/51/f0ee1efb75f7cc2e3065c5da1363d6be2eec79691b2821594f3f2329528c/pytorch_nlp-0.5.0-py3-none-any.whl (90kB)\n",
            "\r\u001b[K     |███▋                            | 10kB 16.0MB/s eta 0:00:01\r\u001b[K     |███████▎                        | 20kB 1.5MB/s eta 0:00:01\r\u001b[K     |███████████                     | 30kB 1.8MB/s eta 0:00:01\r\u001b[K     |██████████████▌                 | 40kB 1.6MB/s eta 0:00:01\r\u001b[K     |██████████████████▏             | 51kB 1.8MB/s eta 0:00:01\r\u001b[K     |█████████████████████▉          | 61kB 2.1MB/s eta 0:00:01\r\u001b[K     |█████████████████████████▌      | 71kB 2.3MB/s eta 0:00:01\r\u001b[K     |█████████████████████████████   | 81kB 2.4MB/s eta 0:00:01\r\u001b[K     |████████████████████████████████| 92kB 2.2MB/s \n",
            "\u001b[?25hRequirement already satisfied: tqdm in /usr/local/lib/python3.6/dist-packages (from pytorch-nlp) (4.38.0)\n",
            "Requirement already satisfied: numpy in /usr/local/lib/python3.6/dist-packages (from pytorch-nlp) (1.18.2)\n",
            "Installing collected packages: pytorch-nlp\n",
            "Successfully installed pytorch-nlp-0.5.0\n"
          ],
          "name": "stdout"
        }
      ]
    },
    {
      "cell_type": "code",
      "metadata": {
        "id": "es7a40C4au5L",
        "colab_type": "code",
        "colab": {}
      },
      "source": [
        "#import package\n",
        "import pandas as pd \n",
        "import numpy as np \n",
        "import torch.nn as nn\n",
        "from pytorch_pretrained_bert import BertTokenizer, BertModel\n",
        "import torch\n",
        "from torchnlp.datasets import imdb_dataset\n",
        "from keras.preprocessing.sequence import pad_sequences\n",
        "from sklearn.metrics import classification_report"
      ],
      "execution_count": 0,
      "outputs": []
    },
    {
      "cell_type": "code",
      "metadata": {
        "id": "bPi8rfGfawnL",
        "colab_type": "code",
        "outputId": "3a5e2591-d7dd-4fcd-d794-4c15e71b9ef1",
        "colab": {
          "base_uri": "https://localhost:8080/",
          "height": 124
        }
      },
      "source": [
        "#-----------------fake.csv dataset\n",
        "pd.set_option('display.max_columns', None)\n",
        "df = pd.read_csv(\"fake.csv\")\n",
        "\n",
        "df = df[['text', 'type']]\n",
        "print(df.head())"
      ],
      "execution_count": 0,
      "outputs": [
        {
          "output_type": "stream",
          "text": [
            "                                                text  type\n",
            "0  Print They should pay all the back all the mon...  bias\n",
            "1  Why Did Attorney General Loretta Lynch Plead T...  bias\n",
            "2  Red State : \\nFox News Sunday reported this mo...  bias\n",
            "3  Email Kayla Mueller was a prisoner and torture...  bias\n",
            "4  Email HEALTHCARE REFORM TO MAKE AMERICA GREAT ...  bias\n"
          ],
          "name": "stdout"
        }
      ]
    },
    {
      "cell_type": "code",
      "metadata": {
        "id": "mw5Wf5D5a8qe",
        "colab_type": "code",
        "outputId": "bb9f89a5-f88e-46e9-b3bd-d95af13e17a3",
        "colab": {
          "base_uri": "https://localhost:8080/",
          "height": 266
        }
      },
      "source": [
        "df.tail"
      ],
      "execution_count": 0,
      "outputs": [
        {
          "output_type": "execute_result",
          "data": {
            "text/plain": [
              "<bound method NDFrame.tail of                                                     text  type\n",
              "0      Print They should pay all the back all the mon...  bias\n",
              "1      Why Did Attorney General Loretta Lynch Plead T...  bias\n",
              "2      Red State : \\nFox News Sunday reported this mo...  bias\n",
              "3      Email Kayla Mueller was a prisoner and torture...  bias\n",
              "4      Email HEALTHCARE REFORM TO MAKE AMERICA GREAT ...  bias\n",
              "...                                                  ...   ...\n",
              "12994  It DOES allow you to put a dog face on top of ...    bs\n",
              "12995  Wait till you see what happens to the valuatio...    bs\n",
              "12996  I'm waiting for the one that puts a pussy on m...    bs\n",
              "12997  $4 Billion even after they are known to be kee...    bs\n",
              "12998  of course - how else would they disceminate te...    bs\n",
              "\n",
              "[12999 rows x 2 columns]>"
            ]
          },
          "metadata": {
            "tags": []
          },
          "execution_count": 7
        }
      ]
    },
    {
      "cell_type": "code",
      "metadata": {
        "id": "6q8o60zobSgY",
        "colab_type": "code",
        "outputId": "5138347e-e17b-4a9e-ab04-058ce3b7b0b4",
        "colab": {
          "base_uri": "https://localhost:8080/",
          "height": 399
        }
      },
      "source": [
        "df.loc[df[\"type\"] == 'state']"
      ],
      "execution_count": 0,
      "outputs": [
        {
          "output_type": "execute_result",
          "data": {
            "text/html": [
              "<div>\n",
              "<style scoped>\n",
              "    .dataframe tbody tr th:only-of-type {\n",
              "        vertical-align: middle;\n",
              "    }\n",
              "\n",
              "    .dataframe tbody tr th {\n",
              "        vertical-align: top;\n",
              "    }\n",
              "\n",
              "    .dataframe thead th {\n",
              "        text-align: right;\n",
              "    }\n",
              "</style>\n",
              "<table border=\"1\" class=\"dataframe\">\n",
              "  <thead>\n",
              "    <tr style=\"text-align: right;\">\n",
              "      <th></th>\n",
              "      <th>text</th>\n",
              "      <th>type</th>\n",
              "    </tr>\n",
              "  </thead>\n",
              "  <tbody>\n",
              "    <tr>\n",
              "      <th>7491</th>\n",
              "      <td>This handout picture released by the Venezuela...</td>\n",
              "      <td>state</td>\n",
              "    </tr>\n",
              "    <tr>\n",
              "      <th>7492</th>\n",
              "      <td>US air strikes in Afghanistan increase in 2016...</td>\n",
              "      <td>state</td>\n",
              "    </tr>\n",
              "    <tr>\n",
              "      <th>7493</th>\n",
              "      <td>Lebanon Lebanese Foreign Minister Gebran Bassi...</td>\n",
              "      <td>state</td>\n",
              "    </tr>\n",
              "    <tr>\n",
              "      <th>7494</th>\n",
              "      <td>Le terrorisme régional vise à protéger les int...</td>\n",
              "      <td>state</td>\n",
              "    </tr>\n",
              "    <tr>\n",
              "      <th>7495</th>\n",
              "      <td>Military An American soldier talks with Saudi ...</td>\n",
              "      <td>state</td>\n",
              "    </tr>\n",
              "    <tr>\n",
              "      <th>...</th>\n",
              "      <td>...</td>\n",
              "      <td>...</td>\n",
              "    </tr>\n",
              "    <tr>\n",
              "      <th>7607</th>\n",
              "      <td>Iraq Civilians leave their homes as Iraqi troo...</td>\n",
              "      <td>state</td>\n",
              "    </tr>\n",
              "    <tr>\n",
              "      <th>7608</th>\n",
              "      <td>Syria This file photo shows smoke rising from ...</td>\n",
              "      <td>state</td>\n",
              "    </tr>\n",
              "    <tr>\n",
              "      <th>7609</th>\n",
              "      <td>Pakistan This photo taken in Lahore on October...</td>\n",
              "      <td>state</td>\n",
              "    </tr>\n",
              "    <tr>\n",
              "      <th>7610</th>\n",
              "      <td>FMs of Iran, Syria, Russia meet in Moscow Fri ...</td>\n",
              "      <td>state</td>\n",
              "    </tr>\n",
              "    <tr>\n",
              "      <th>7611</th>\n",
              "      <td>News Bulletin Iranian youngsters lost to Saudi...</td>\n",
              "      <td>state</td>\n",
              "    </tr>\n",
              "  </tbody>\n",
              "</table>\n",
              "<p>121 rows × 2 columns</p>\n",
              "</div>"
            ],
            "text/plain": [
              "                                                   text   type\n",
              "7491  This handout picture released by the Venezuela...  state\n",
              "7492  US air strikes in Afghanistan increase in 2016...  state\n",
              "7493  Lebanon Lebanese Foreign Minister Gebran Bassi...  state\n",
              "7494  Le terrorisme régional vise à protéger les int...  state\n",
              "7495  Military An American soldier talks with Saudi ...  state\n",
              "...                                                 ...    ...\n",
              "7607  Iraq Civilians leave their homes as Iraqi troo...  state\n",
              "7608  Syria This file photo shows smoke rising from ...  state\n",
              "7609  Pakistan This photo taken in Lahore on October...  state\n",
              "7610  FMs of Iran, Syria, Russia meet in Moscow Fri ...  state\n",
              "7611  News Bulletin Iranian youngsters lost to Saudi...  state\n",
              "\n",
              "[121 rows x 2 columns]"
            ]
          },
          "metadata": {
            "tags": []
          },
          "execution_count": 8
        }
      ]
    },
    {
      "cell_type": "code",
      "metadata": {
        "id": "hqsuZ269bsq7",
        "colab_type": "code",
        "colab": {}
      },
      "source": [
        "print(df[0][1])"
      ],
      "execution_count": 0,
      "outputs": []
    },
    {
      "cell_type": "code",
      "metadata": {
        "id": "vLvkx3ItawqX",
        "colab_type": "code",
        "outputId": "b0c070fc-5679-4c10-e595-23670582646c",
        "colab": {
          "base_uri": "https://localhost:8080/",
          "height": 36
        }
      },
      "source": [
        "from collections import Counter\n",
        "print(Counter(df['type'].values))"
      ],
      "execution_count": 0,
      "outputs": [
        {
          "output_type": "stream",
          "text": [
            "Counter({'bs': 11492, 'bias': 443, 'conspiracy': 430, 'hate': 246, 'satire': 146, 'state': 121, 'junksci': 102, 'fake': 19})\n"
          ],
          "name": "stdout"
        }
      ]
    },
    {
      "cell_type": "code",
      "metadata": {
        "id": "cXKXkGjkiQIH",
        "colab_type": "code",
        "outputId": "61a287ca-1122-4720-c135-74d0e4117ee6",
        "colab": {
          "base_uri": "https://localhost:8080/",
          "height": 314
        }
      },
      "source": [
        "#change all 'type' in '1' (fake)\n",
        "df.loc[df['type']=='bias', 'type'] = '1'\n",
        "df.loc[df['type']=='bs', 'type'] = '1'\n",
        "df.loc[df['type']=='conspiracy', 'type'] = '1'\n",
        "df.loc[df['type']=='hate', 'type'] = '1'\n",
        "df.loc[df['type']=='satire', 'type'] = '1'\n",
        "df.loc[df['type']=='state', 'type'] = '1'\n",
        "df.loc[df['type']=='junksci', 'type'] = '1'\n",
        "df.loc[df['type']=='fake', 'type'] = '1'\n",
        "\n",
        "print(df)\n",
        "print(df.iloc[[400]])"
      ],
      "execution_count": 0,
      "outputs": [
        {
          "output_type": "stream",
          "text": [
            "                                                    text type\n",
            "0      Print They should pay all the back all the mon...    1\n",
            "1      Why Did Attorney General Loretta Lynch Plead T...    1\n",
            "2      Red State : \\nFox News Sunday reported this mo...    1\n",
            "3      Email Kayla Mueller was a prisoner and torture...    1\n",
            "4      Email HEALTHCARE REFORM TO MAKE AMERICA GREAT ...    1\n",
            "...                                                  ...  ...\n",
            "12994  It DOES allow you to put a dog face on top of ...    1\n",
            "12995  Wait till you see what happens to the valuatio...    1\n",
            "12996  I'm waiting for the one that puts a pussy on m...    1\n",
            "12997  $4 Billion even after they are known to be kee...    1\n",
            "12998  of course - how else would they disceminate te...    1\n",
            "\n",
            "[12999 rows x 2 columns]\n",
            "                                                  text type\n",
            "400  22 Shares\\n1 20 0 1\\nThe anarchist political o...    1\n"
          ],
          "name": "stdout"
        }
      ]
    },
    {
      "cell_type": "code",
      "metadata": {
        "id": "0xvz0peSiQUZ",
        "colab_type": "code",
        "outputId": "90720ba1-0abc-4e55-f084-424b4e623df3",
        "colab": {
          "base_uri": "https://localhost:8080/",
          "height": 36
        }
      },
      "source": [
        "from collections import Counter\n",
        "print(Counter(df['type'].values))"
      ],
      "execution_count": 0,
      "outputs": [
        {
          "output_type": "stream",
          "text": [
            "Counter({'1': 12999})\n"
          ],
          "name": "stdout"
        }
      ]
    },
    {
      "cell_type": "code",
      "metadata": {
        "id": "0-l5QzIZ7qna",
        "colab_type": "code",
        "outputId": "556145aa-3b3d-460a-994d-c639753ccb77",
        "colab": {
          "base_uri": "https://localhost:8080/",
          "height": 206
        }
      },
      "source": [
        "#separate fake.csv file: in train.csv and test.csv\n",
        "import pandas as pd\n",
        "from sklearn.model_selection import train_test_split\n",
        "data = df\n",
        "data.head()"
      ],
      "execution_count": 0,
      "outputs": [
        {
          "output_type": "execute_result",
          "data": {
            "text/html": [
              "<div>\n",
              "<style scoped>\n",
              "    .dataframe tbody tr th:only-of-type {\n",
              "        vertical-align: middle;\n",
              "    }\n",
              "\n",
              "    .dataframe tbody tr th {\n",
              "        vertical-align: top;\n",
              "    }\n",
              "\n",
              "    .dataframe thead th {\n",
              "        text-align: right;\n",
              "    }\n",
              "</style>\n",
              "<table border=\"1\" class=\"dataframe\">\n",
              "  <thead>\n",
              "    <tr style=\"text-align: right;\">\n",
              "      <th></th>\n",
              "      <th>text</th>\n",
              "      <th>type</th>\n",
              "    </tr>\n",
              "  </thead>\n",
              "  <tbody>\n",
              "    <tr>\n",
              "      <th>0</th>\n",
              "      <td>Print They should pay all the back all the mon...</td>\n",
              "      <td>1</td>\n",
              "    </tr>\n",
              "    <tr>\n",
              "      <th>1</th>\n",
              "      <td>Why Did Attorney General Loretta Lynch Plead T...</td>\n",
              "      <td>1</td>\n",
              "    </tr>\n",
              "    <tr>\n",
              "      <th>2</th>\n",
              "      <td>Red State : \\nFox News Sunday reported this mo...</td>\n",
              "      <td>1</td>\n",
              "    </tr>\n",
              "    <tr>\n",
              "      <th>3</th>\n",
              "      <td>Email Kayla Mueller was a prisoner and torture...</td>\n",
              "      <td>1</td>\n",
              "    </tr>\n",
              "    <tr>\n",
              "      <th>4</th>\n",
              "      <td>Email HEALTHCARE REFORM TO MAKE AMERICA GREAT ...</td>\n",
              "      <td>1</td>\n",
              "    </tr>\n",
              "  </tbody>\n",
              "</table>\n",
              "</div>"
            ],
            "text/plain": [
              "                                                text type\n",
              "0  Print They should pay all the back all the mon...    1\n",
              "1  Why Did Attorney General Loretta Lynch Plead T...    1\n",
              "2  Red State : \\nFox News Sunday reported this mo...    1\n",
              "3  Email Kayla Mueller was a prisoner and torture...    1\n",
              "4  Email HEALTHCARE REFORM TO MAKE AMERICA GREAT ...    1"
            ]
          },
          "metadata": {
            "tags": []
          },
          "execution_count": 339
        }
      ]
    },
    {
      "cell_type": "code",
      "metadata": {
        "id": "Epwn_11I-Q5_",
        "colab_type": "code",
        "outputId": "f59a6b85-5a42-4fc5-995f-d85946f7a8b4",
        "colab": {
          "base_uri": "https://localhost:8080/",
          "height": 36
        }
      },
      "source": [
        "#12999 row and 2 columns\n",
        "print(data.shape)"
      ],
      "execution_count": 0,
      "outputs": [
        {
          "output_type": "stream",
          "text": [
            "(12999, 2)\n"
          ],
          "name": "stdout"
        }
      ]
    },
    {
      "cell_type": "code",
      "metadata": {
        "id": "CpHTTgKn-fJ5",
        "colab_type": "code",
        "colab": {}
      },
      "source": [
        "X = data\n",
        "y = data"
      ],
      "execution_count": 0,
      "outputs": []
    },
    {
      "cell_type": "code",
      "metadata": {
        "id": "p1Zky6H1-fQE",
        "colab_type": "code",
        "outputId": "544907a9-8182-491f-a132-f53bdfae493c",
        "colab": {
          "base_uri": "https://localhost:8080/",
          "height": 388
        }
      },
      "source": [
        "#test 20%(780), training 80%(12219)\n",
        "X_train, X_test, y_train, y_test = train_test_split(X, y, test_size=0.2)\n",
        "print(\"\\nX_training:\\n\")\n",
        "print(X_train.head())\n",
        "print(X_train.shape)\n",
        "\n",
        "print(\"\\nX_test:\\n\")\n",
        "print(X_test.head())\n",
        "print(X_test.shape)"
      ],
      "execution_count": 0,
      "outputs": [
        {
          "output_type": "stream",
          "text": [
            "\n",
            "X_training:\n",
            "\n",
            "                                                    text type\n",
            "3925   Report Copyright Violation Trump: No Salary fo...    1\n",
            "3809   Your News Wire WikiLeaks Bombshell: ‘There Is ...    1\n",
            "11177    reports on What You Need to Know About the '...    1\n",
            "95     The second video (bottom one ) proves what Tru...    1\n",
            "2140   “Chapo Trap House”: New Left-Wing Podcast is a...    1\n",
            "(10399, 2)\n",
            "\n",
            "X_test:\n",
            "\n",
            "                                                    text type\n",
            "1816   “I am a person of faith. I am a Christian. I a...    1\n",
            "4383   Gardasil Vaccine Given without Consent and Rui...    1\n",
            "5797   No Search Warrant Yet: FBI Can’t Move On Email...    1\n",
            "4406   Only 3 Countries Left Without a ROTHSCHILD Cen...    1\n",
            "12103  Waking Times \\n“Does anyone even know why we e...    1\n",
            "(2600, 2)\n"
          ],
          "name": "stdout"
        }
      ]
    },
    {
      "cell_type": "code",
      "metadata": {
        "id": "q-0nd3lu-fNz",
        "colab_type": "code",
        "colab": {}
      },
      "source": [
        "# save the model to disk\n",
        "#index=False remove a columns with previous index\n",
        "#\n",
        "X_train.to_csv('./dataset/train1.csv', index=False)\n",
        "X_test.to_csv('./dataset/test1.csv', index=False)"
      ],
      "execution_count": 0,
      "outputs": []
    },
    {
      "cell_type": "code",
      "metadata": {
        "id": "S6pSc40OE2CH",
        "colab_type": "code",
        "outputId": "b154fc14-9913-4d36-d5f7-9771c5064497",
        "colab": {
          "base_uri": "https://localhost:8080/",
          "height": 277
        }
      },
      "source": [
        "data_train = pd.read_csv('./dataset/train1.csv')\n",
        "print(data_train.head())\n",
        "print(data_train.shape)\n",
        "\n",
        "data_test = pd.read_csv('./dataset/test1.csv')\n",
        "print(data_test.head())\n",
        "print(data_test.shape)"
      ],
      "execution_count": 0,
      "outputs": [
        {
          "output_type": "stream",
          "text": [
            "                                                text  type\n",
            "0  Report Copyright Violation Trump: No Salary fo...     1\n",
            "1  Your News Wire WikiLeaks Bombshell: ‘There Is ...     1\n",
            "2    reports on What You Need to Know About the '...     1\n",
            "3  The second video (bottom one ) proves what Tru...     1\n",
            "4  “Chapo Trap House”: New Left-Wing Podcast is a...     1\n",
            "(10399, 2)\n",
            "                                                text  type\n",
            "0  “I am a person of faith. I am a Christian. I a...     1\n",
            "1  Gardasil Vaccine Given without Consent and Rui...     1\n",
            "2  No Search Warrant Yet: FBI Can’t Move On Email...     1\n",
            "3  Only 3 Countries Left Without a ROTHSCHILD Cen...     1\n",
            "4  Waking Times \\n“Does anyone even know why we e...     1\n",
            "(2600, 2)\n"
          ],
          "name": "stdout"
        }
      ]
    },
    {
      "cell_type": "code",
      "metadata": {
        "id": "QwBtC3xOuUBk",
        "colab_type": "code",
        "outputId": "938de9bf-fd3a-4293-c2e6-aff4d5ffb209",
        "colab": {
          "base_uri": "https://localhost:8080/",
          "height": 206
        }
      },
      "source": [
        "#swap type columns with text\n",
        "col = [\"type\", \"text\"]\n",
        "data_train = data_train.reindex(columns = col)\n",
        "data_train.head()"
      ],
      "execution_count": 0,
      "outputs": [
        {
          "output_type": "execute_result",
          "data": {
            "text/html": [
              "<div>\n",
              "<style scoped>\n",
              "    .dataframe tbody tr th:only-of-type {\n",
              "        vertical-align: middle;\n",
              "    }\n",
              "\n",
              "    .dataframe tbody tr th {\n",
              "        vertical-align: top;\n",
              "    }\n",
              "\n",
              "    .dataframe thead th {\n",
              "        text-align: right;\n",
              "    }\n",
              "</style>\n",
              "<table border=\"1\" class=\"dataframe\">\n",
              "  <thead>\n",
              "    <tr style=\"text-align: right;\">\n",
              "      <th></th>\n",
              "      <th>type</th>\n",
              "      <th>text</th>\n",
              "    </tr>\n",
              "  </thead>\n",
              "  <tbody>\n",
              "    <tr>\n",
              "      <th>0</th>\n",
              "      <td>1</td>\n",
              "      <td>Report Copyright Violation Trump: No Salary fo...</td>\n",
              "    </tr>\n",
              "    <tr>\n",
              "      <th>1</th>\n",
              "      <td>1</td>\n",
              "      <td>Your News Wire WikiLeaks Bombshell: ‘There Is ...</td>\n",
              "    </tr>\n",
              "    <tr>\n",
              "      <th>2</th>\n",
              "      <td>1</td>\n",
              "      <td>reports on What You Need to Know About the '...</td>\n",
              "    </tr>\n",
              "    <tr>\n",
              "      <th>3</th>\n",
              "      <td>1</td>\n",
              "      <td>The second video (bottom one ) proves what Tru...</td>\n",
              "    </tr>\n",
              "    <tr>\n",
              "      <th>4</th>\n",
              "      <td>1</td>\n",
              "      <td>“Chapo Trap House”: New Left-Wing Podcast is a...</td>\n",
              "    </tr>\n",
              "  </tbody>\n",
              "</table>\n",
              "</div>"
            ],
            "text/plain": [
              "   type                                               text\n",
              "0     1  Report Copyright Violation Trump: No Salary fo...\n",
              "1     1  Your News Wire WikiLeaks Bombshell: ‘There Is ...\n",
              "2     1    reports on What You Need to Know About the '...\n",
              "3     1  The second video (bottom one ) proves what Tru...\n",
              "4     1  “Chapo Trap House”: New Left-Wing Podcast is a..."
            ]
          },
          "metadata": {
            "tags": []
          },
          "execution_count": 348
        }
      ]
    },
    {
      "cell_type": "code",
      "metadata": {
        "id": "RNFY7CcCvFq4",
        "colab_type": "code",
        "outputId": "4caf6a8e-7477-4216-b682-9257761c59f0",
        "colab": {
          "base_uri": "https://localhost:8080/",
          "height": 206
        }
      },
      "source": [
        "#swap type columns with text\n",
        "col = [\"type\", \"text\"]\n",
        "data_test = data_test.reindex(columns = col)\n",
        "data_test.head()"
      ],
      "execution_count": 0,
      "outputs": [
        {
          "output_type": "execute_result",
          "data": {
            "text/html": [
              "<div>\n",
              "<style scoped>\n",
              "    .dataframe tbody tr th:only-of-type {\n",
              "        vertical-align: middle;\n",
              "    }\n",
              "\n",
              "    .dataframe tbody tr th {\n",
              "        vertical-align: top;\n",
              "    }\n",
              "\n",
              "    .dataframe thead th {\n",
              "        text-align: right;\n",
              "    }\n",
              "</style>\n",
              "<table border=\"1\" class=\"dataframe\">\n",
              "  <thead>\n",
              "    <tr style=\"text-align: right;\">\n",
              "      <th></th>\n",
              "      <th>type</th>\n",
              "      <th>text</th>\n",
              "    </tr>\n",
              "  </thead>\n",
              "  <tbody>\n",
              "    <tr>\n",
              "      <th>0</th>\n",
              "      <td>1</td>\n",
              "      <td>“I am a person of faith. I am a Christian. I a...</td>\n",
              "    </tr>\n",
              "    <tr>\n",
              "      <th>1</th>\n",
              "      <td>1</td>\n",
              "      <td>Gardasil Vaccine Given without Consent and Rui...</td>\n",
              "    </tr>\n",
              "    <tr>\n",
              "      <th>2</th>\n",
              "      <td>1</td>\n",
              "      <td>No Search Warrant Yet: FBI Can’t Move On Email...</td>\n",
              "    </tr>\n",
              "    <tr>\n",
              "      <th>3</th>\n",
              "      <td>1</td>\n",
              "      <td>Only 3 Countries Left Without a ROTHSCHILD Cen...</td>\n",
              "    </tr>\n",
              "    <tr>\n",
              "      <th>4</th>\n",
              "      <td>1</td>\n",
              "      <td>Waking Times \\n“Does anyone even know why we e...</td>\n",
              "    </tr>\n",
              "  </tbody>\n",
              "</table>\n",
              "</div>"
            ],
            "text/plain": [
              "   type                                               text\n",
              "0     1  “I am a person of faith. I am a Christian. I a...\n",
              "1     1  Gardasil Vaccine Given without Consent and Rui...\n",
              "2     1  No Search Warrant Yet: FBI Can’t Move On Email...\n",
              "3     1  Only 3 Countries Left Without a ROTHSCHILD Cen...\n",
              "4     1  Waking Times \\n“Does anyone even know why we e..."
            ]
          },
          "metadata": {
            "tags": []
          },
          "execution_count": 349
        }
      ]
    },
    {
      "cell_type": "code",
      "metadata": {
        "id": "JRCUH12xF4OX",
        "colab_type": "code",
        "outputId": "07fe5d57-b58f-4c4e-ae06-b36a1b62f1da",
        "colab": {
          "base_uri": "https://localhost:8080/",
          "height": 54
        }
      },
      "source": [
        "#save data\n",
        "data_train.to_csv('./mergedir/train1.csv', index=False)\n",
        "data_test.to_csv('./mergedir/test1.csv', index=False)\n",
        "\n",
        "print(data_train.shape)\n",
        "print(data_test.shape)"
      ],
      "execution_count": 0,
      "outputs": [
        {
          "output_type": "stream",
          "text": [
            "(10399, 2)\n",
            "(2600, 2)\n"
          ],
          "name": "stdout"
        }
      ]
    },
    {
      "cell_type": "code",
      "metadata": {
        "id": "iSMp4fGjawsd",
        "colab_type": "code",
        "outputId": "0122e29a-5f3e-42cc-af62-3d73187d4150",
        "colab": {
          "base_uri": "https://localhost:8080/",
          "height": 240
        }
      },
      "source": [
        "#---------AG news dataset\n",
        "!mkdir data\n",
        "!wget https://s3.amazonaws.com/fast-ai-nlp/ag_news_csv.tgz -O data/data.tgz"
      ],
      "execution_count": 0,
      "outputs": [
        {
          "output_type": "stream",
          "text": [
            "mkdir: cannot create directory ‘data’: File exists\n",
            "--2020-03-15 17:36:58--  https://s3.amazonaws.com/fast-ai-nlp/ag_news_csv.tgz\n",
            "Resolving s3.amazonaws.com (s3.amazonaws.com)... 52.216.160.21\n",
            "Connecting to s3.amazonaws.com (s3.amazonaws.com)|52.216.160.21|:443... connected.\n",
            "HTTP request sent, awaiting response... 200 OK\n",
            "Length: 11784419 (11M) [application/x-tar]\n",
            "Saving to: ‘data/data.tgz’\n",
            "\n",
            "data/data.tgz       100%[===================>]  11.24M  38.7MB/s    in 0.3s    \n",
            "\n",
            "2020-03-15 17:36:59 (38.7 MB/s) - ‘data/data.tgz’ saved [11784419/11784419]\n",
            "\n"
          ],
          "name": "stdout"
        }
      ]
    },
    {
      "cell_type": "code",
      "metadata": {
        "id": "3hEB0_m6awzD",
        "colab_type": "code",
        "outputId": "a55b4f06-2bd9-4073-97b9-0296b6de3477",
        "colab": {
          "base_uri": "https://localhost:8080/",
          "height": 110
        }
      },
      "source": [
        "!tar -xvzf data/data.tgz -C data/\n",
        "!mv data/ag_news_csv/* data/\n",
        "!rm -r data/ag_news_csv/\n",
        "!rm data/data.tgz"
      ],
      "execution_count": 0,
      "outputs": [
        {
          "output_type": "stream",
          "text": [
            "ag_news_csv/\n",
            "ag_news_csv/train.csv\n",
            "ag_news_csv/readme.txt\n",
            "ag_news_csv/test.csv\n",
            "ag_news_csv/classes.txt\n"
          ],
          "name": "stdout"
        }
      ]
    },
    {
      "cell_type": "code",
      "metadata": {
        "id": "dWmsfQnmawwK",
        "colab_type": "code",
        "colab": {}
      },
      "source": [
        "import pandas as pd\n",
        "from tqdm import tqdm_notebook\n",
        "\n",
        "prefix = 'data/'"
      ],
      "execution_count": 0,
      "outputs": []
    },
    {
      "cell_type": "code",
      "metadata": {
        "id": "6hH2i8-6awuK",
        "colab_type": "code",
        "outputId": "e58b6a53-7a0e-46a9-ae38-7b45d86496d1",
        "colab": {
          "base_uri": "https://localhost:8080/",
          "height": 206
        }
      },
      "source": [
        "#---train set\n",
        "train_df = pd.read_csv(prefix + 'train.csv', header=None)\n",
        "train_df.head()"
      ],
      "execution_count": 0,
      "outputs": [
        {
          "output_type": "execute_result",
          "data": {
            "text/html": [
              "<div>\n",
              "<style scoped>\n",
              "    .dataframe tbody tr th:only-of-type {\n",
              "        vertical-align: middle;\n",
              "    }\n",
              "\n",
              "    .dataframe tbody tr th {\n",
              "        vertical-align: top;\n",
              "    }\n",
              "\n",
              "    .dataframe thead th {\n",
              "        text-align: right;\n",
              "    }\n",
              "</style>\n",
              "<table border=\"1\" class=\"dataframe\">\n",
              "  <thead>\n",
              "    <tr style=\"text-align: right;\">\n",
              "      <th></th>\n",
              "      <th>0</th>\n",
              "      <th>1</th>\n",
              "      <th>2</th>\n",
              "    </tr>\n",
              "  </thead>\n",
              "  <tbody>\n",
              "    <tr>\n",
              "      <th>0</th>\n",
              "      <td>3</td>\n",
              "      <td>Wall St. Bears Claw Back Into the Black (Reuters)</td>\n",
              "      <td>Reuters - Short-sellers, Wall Street's dwindli...</td>\n",
              "    </tr>\n",
              "    <tr>\n",
              "      <th>1</th>\n",
              "      <td>3</td>\n",
              "      <td>Carlyle Looks Toward Commercial Aerospace (Reu...</td>\n",
              "      <td>Reuters - Private investment firm Carlyle Grou...</td>\n",
              "    </tr>\n",
              "    <tr>\n",
              "      <th>2</th>\n",
              "      <td>3</td>\n",
              "      <td>Oil and Economy Cloud Stocks' Outlook (Reuters)</td>\n",
              "      <td>Reuters - Soaring crude prices plus worries\\ab...</td>\n",
              "    </tr>\n",
              "    <tr>\n",
              "      <th>3</th>\n",
              "      <td>3</td>\n",
              "      <td>Iraq Halts Oil Exports from Main Southern Pipe...</td>\n",
              "      <td>Reuters - Authorities have halted oil export\\f...</td>\n",
              "    </tr>\n",
              "    <tr>\n",
              "      <th>4</th>\n",
              "      <td>3</td>\n",
              "      <td>Oil prices soar to all-time record, posing new...</td>\n",
              "      <td>AFP - Tearaway world oil prices, toppling reco...</td>\n",
              "    </tr>\n",
              "  </tbody>\n",
              "</table>\n",
              "</div>"
            ],
            "text/plain": [
              "   0                                                  1  \\\n",
              "0  3  Wall St. Bears Claw Back Into the Black (Reuters)   \n",
              "1  3  Carlyle Looks Toward Commercial Aerospace (Reu...   \n",
              "2  3    Oil and Economy Cloud Stocks' Outlook (Reuters)   \n",
              "3  3  Iraq Halts Oil Exports from Main Southern Pipe...   \n",
              "4  3  Oil prices soar to all-time record, posing new...   \n",
              "\n",
              "                                                   2  \n",
              "0  Reuters - Short-sellers, Wall Street's dwindli...  \n",
              "1  Reuters - Private investment firm Carlyle Grou...  \n",
              "2  Reuters - Soaring crude prices plus worries\\ab...  \n",
              "3  Reuters - Authorities have halted oil export\\f...  \n",
              "4  AFP - Tearaway world oil prices, toppling reco...  "
            ]
          },
          "metadata": {
            "tags": []
          },
          "execution_count": 356
        }
      ]
    },
    {
      "cell_type": "code",
      "metadata": {
        "id": "SocYsW0DwHPE",
        "colab_type": "code",
        "outputId": "1554edaa-64fb-4fc7-a311-5b515ea5b968",
        "colab": {
          "base_uri": "https://localhost:8080/",
          "height": 206
        }
      },
      "source": [
        "#1change names columns train\n",
        "tdf_train = train_df.copy()\n",
        "tdf_train.rename(columns={0:'type', 1:'Title', 2:'Text'},inplace=True)\n",
        "tdf_train.head()"
      ],
      "execution_count": 0,
      "outputs": [
        {
          "output_type": "execute_result",
          "data": {
            "text/html": [
              "<div>\n",
              "<style scoped>\n",
              "    .dataframe tbody tr th:only-of-type {\n",
              "        vertical-align: middle;\n",
              "    }\n",
              "\n",
              "    .dataframe tbody tr th {\n",
              "        vertical-align: top;\n",
              "    }\n",
              "\n",
              "    .dataframe thead th {\n",
              "        text-align: right;\n",
              "    }\n",
              "</style>\n",
              "<table border=\"1\" class=\"dataframe\">\n",
              "  <thead>\n",
              "    <tr style=\"text-align: right;\">\n",
              "      <th></th>\n",
              "      <th>type</th>\n",
              "      <th>Title</th>\n",
              "      <th>Text</th>\n",
              "    </tr>\n",
              "  </thead>\n",
              "  <tbody>\n",
              "    <tr>\n",
              "      <th>0</th>\n",
              "      <td>3</td>\n",
              "      <td>Wall St. Bears Claw Back Into the Black (Reuters)</td>\n",
              "      <td>Reuters - Short-sellers, Wall Street's dwindli...</td>\n",
              "    </tr>\n",
              "    <tr>\n",
              "      <th>1</th>\n",
              "      <td>3</td>\n",
              "      <td>Carlyle Looks Toward Commercial Aerospace (Reu...</td>\n",
              "      <td>Reuters - Private investment firm Carlyle Grou...</td>\n",
              "    </tr>\n",
              "    <tr>\n",
              "      <th>2</th>\n",
              "      <td>3</td>\n",
              "      <td>Oil and Economy Cloud Stocks' Outlook (Reuters)</td>\n",
              "      <td>Reuters - Soaring crude prices plus worries\\ab...</td>\n",
              "    </tr>\n",
              "    <tr>\n",
              "      <th>3</th>\n",
              "      <td>3</td>\n",
              "      <td>Iraq Halts Oil Exports from Main Southern Pipe...</td>\n",
              "      <td>Reuters - Authorities have halted oil export\\f...</td>\n",
              "    </tr>\n",
              "    <tr>\n",
              "      <th>4</th>\n",
              "      <td>3</td>\n",
              "      <td>Oil prices soar to all-time record, posing new...</td>\n",
              "      <td>AFP - Tearaway world oil prices, toppling reco...</td>\n",
              "    </tr>\n",
              "  </tbody>\n",
              "</table>\n",
              "</div>"
            ],
            "text/plain": [
              "   type                                              Title  \\\n",
              "0     3  Wall St. Bears Claw Back Into the Black (Reuters)   \n",
              "1     3  Carlyle Looks Toward Commercial Aerospace (Reu...   \n",
              "2     3    Oil and Economy Cloud Stocks' Outlook (Reuters)   \n",
              "3     3  Iraq Halts Oil Exports from Main Southern Pipe...   \n",
              "4     3  Oil prices soar to all-time record, posing new...   \n",
              "\n",
              "                                                Text  \n",
              "0  Reuters - Short-sellers, Wall Street's dwindli...  \n",
              "1  Reuters - Private investment firm Carlyle Grou...  \n",
              "2  Reuters - Soaring crude prices plus worries\\ab...  \n",
              "3  Reuters - Authorities have halted oil export\\f...  \n",
              "4  AFP - Tearaway world oil prices, toppling reco...  "
            ]
          },
          "metadata": {
            "tags": []
          },
          "execution_count": 358
        }
      ]
    },
    {
      "cell_type": "code",
      "metadata": {
        "id": "zkoGmxAUyQLf",
        "colab_type": "code",
        "outputId": "72c79d58-0c48-41b6-cca9-6b86a045ed06",
        "colab": {
          "base_uri": "https://localhost:8080/",
          "height": 206
        }
      },
      "source": [
        "#2 concat columns (Title+Text) and dropout the rest\n",
        "import pandas as pd\n",
        "tdf_train[\"text\"] = tdf_train[\"Title\"] + ';' + tdf_train[\"Text\"]\n",
        "#tdf.head()\n",
        "tdf_train.drop([\"Title\", \"Text\"], axis=1, inplace=True)\n",
        "\n",
        "tdf_train.head()"
      ],
      "execution_count": 0,
      "outputs": [
        {
          "output_type": "execute_result",
          "data": {
            "text/html": [
              "<div>\n",
              "<style scoped>\n",
              "    .dataframe tbody tr th:only-of-type {\n",
              "        vertical-align: middle;\n",
              "    }\n",
              "\n",
              "    .dataframe tbody tr th {\n",
              "        vertical-align: top;\n",
              "    }\n",
              "\n",
              "    .dataframe thead th {\n",
              "        text-align: right;\n",
              "    }\n",
              "</style>\n",
              "<table border=\"1\" class=\"dataframe\">\n",
              "  <thead>\n",
              "    <tr style=\"text-align: right;\">\n",
              "      <th></th>\n",
              "      <th>type</th>\n",
              "      <th>text</th>\n",
              "    </tr>\n",
              "  </thead>\n",
              "  <tbody>\n",
              "    <tr>\n",
              "      <th>0</th>\n",
              "      <td>3</td>\n",
              "      <td>Wall St. Bears Claw Back Into the Black (Reute...</td>\n",
              "    </tr>\n",
              "    <tr>\n",
              "      <th>1</th>\n",
              "      <td>3</td>\n",
              "      <td>Carlyle Looks Toward Commercial Aerospace (Reu...</td>\n",
              "    </tr>\n",
              "    <tr>\n",
              "      <th>2</th>\n",
              "      <td>3</td>\n",
              "      <td>Oil and Economy Cloud Stocks' Outlook (Reuters...</td>\n",
              "    </tr>\n",
              "    <tr>\n",
              "      <th>3</th>\n",
              "      <td>3</td>\n",
              "      <td>Iraq Halts Oil Exports from Main Southern Pipe...</td>\n",
              "    </tr>\n",
              "    <tr>\n",
              "      <th>4</th>\n",
              "      <td>3</td>\n",
              "      <td>Oil prices soar to all-time record, posing new...</td>\n",
              "    </tr>\n",
              "  </tbody>\n",
              "</table>\n",
              "</div>"
            ],
            "text/plain": [
              "   type                                               text\n",
              "0     3  Wall St. Bears Claw Back Into the Black (Reute...\n",
              "1     3  Carlyle Looks Toward Commercial Aerospace (Reu...\n",
              "2     3  Oil and Economy Cloud Stocks' Outlook (Reuters...\n",
              "3     3  Iraq Halts Oil Exports from Main Southern Pipe...\n",
              "4     3  Oil prices soar to all-time record, posing new..."
            ]
          },
          "metadata": {
            "tags": []
          },
          "execution_count": 359
        }
      ]
    },
    {
      "cell_type": "code",
      "metadata": {
        "id": "mIQw37tJnWDK",
        "colab_type": "code",
        "outputId": "b84c1a5f-79bb-4be1-b221-4fa6b4bf6fef",
        "colab": {
          "base_uri": "https://localhost:8080/",
          "height": 91
        }
      },
      "source": [
        "#example\n",
        "print(tdf_train.iloc[[400]])\n",
        "print(tdf_train.iloc[[134]])"
      ],
      "execution_count": 0,
      "outputs": [
        {
          "output_type": "stream",
          "text": [
            "     type                                               text\n",
            "400     4  Battling Robots in Japan's Pop-Culture Tech;Th...\n",
            "     type                                               text\n",
            "134     4  U.S. Barred From Weakening Dolphin Rules (AP);...\n"
          ],
          "name": "stdout"
        }
      ]
    },
    {
      "cell_type": "code",
      "metadata": {
        "id": "sUX948k520bU",
        "colab_type": "code",
        "outputId": "fa9ae603-2f15-4234-aced-b2d3288e2650",
        "colab": {
          "base_uri": "https://localhost:8080/",
          "height": 277
        }
      },
      "source": [
        "#3convert All classes(1,2,3,4) in -> 0 (not-fake)\n",
        "tdf_train.loc[tdf_train['type'] == 1, 'type'] = '0'\n",
        "tdf_train.loc[tdf_train['type'] == 2, 'type'] = '0'\n",
        "tdf_train.loc[tdf_train['type'] == 3, 'type'] = '0'\n",
        "tdf_train.loc[tdf_train['type'] == 4, 'type'] = '0'\n",
        "print(tdf_train)"
      ],
      "execution_count": 0,
      "outputs": [
        {
          "output_type": "stream",
          "text": [
            "       type                                               text\n",
            "0         0  Wall St. Bears Claw Back Into the Black (Reute...\n",
            "1         0  Carlyle Looks Toward Commercial Aerospace (Reu...\n",
            "2         0  Oil and Economy Cloud Stocks' Outlook (Reuters...\n",
            "3         0  Iraq Halts Oil Exports from Main Southern Pipe...\n",
            "4         0  Oil prices soar to all-time record, posing new...\n",
            "...     ...                                                ...\n",
            "119995    0  Pakistan's Musharraf Says Won't Quit as Army C...\n",
            "119996    0  Renteria signing a top-shelf deal;Red Sox gene...\n",
            "119997    0  Saban not going to Dolphins yet;The Miami Dolp...\n",
            "119998    0  Today's NFL games;PITTSBURGH at NY GIANTS Time...\n",
            "119999    0  Nets get Carter from Raptors;INDIANAPOLIS -- A...\n",
            "\n",
            "[120000 rows x 2 columns]\n"
          ],
          "name": "stdout"
        }
      ]
    },
    {
      "cell_type": "code",
      "metadata": {
        "id": "yylzafxb56os",
        "colab_type": "code",
        "outputId": "32d74626-38d8-4038-97c8-e9c9130a9dd7",
        "colab": {
          "base_uri": "https://localhost:8080/",
          "height": 36
        }
      },
      "source": [
        "from collections import Counter\n",
        "print(Counter(tdf_train['type'].values))"
      ],
      "execution_count": 0,
      "outputs": [
        {
          "output_type": "stream",
          "text": [
            "Counter({'0': 120000})\n"
          ],
          "name": "stdout"
        }
      ]
    },
    {
      "cell_type": "code",
      "metadata": {
        "id": "nUON03daqwQ3",
        "colab_type": "code",
        "colab": {}
      },
      "source": [
        "tdf_train.to_csv('./data/train2.csv', index=False)"
      ],
      "execution_count": 0,
      "outputs": []
    },
    {
      "cell_type": "code",
      "metadata": {
        "id": "gVAOsjAOqzpq",
        "colab_type": "code",
        "outputId": "b38d801c-0675-496f-93b5-a9f36d3fe33b",
        "colab": {
          "base_uri": "https://localhost:8080/",
          "height": 147
        }
      },
      "source": [
        "train2 = pd.read_csv('./data/train2.csv')\n",
        "print(train2.head())\n",
        "print(train2.shape)"
      ],
      "execution_count": 0,
      "outputs": [
        {
          "output_type": "stream",
          "text": [
            "   type                                               text\n",
            "0     0  Wall St. Bears Claw Back Into the Black (Reute...\n",
            "1     0  Carlyle Looks Toward Commercial Aerospace (Reu...\n",
            "2     0  Oil and Economy Cloud Stocks' Outlook (Reuters...\n",
            "3     0  Iraq Halts Oil Exports from Main Southern Pipe...\n",
            "4     0  Oil prices soar to all-time record, posing new...\n",
            "(120000, 2)\n"
          ],
          "name": "stdout"
        }
      ]
    },
    {
      "cell_type": "code",
      "metadata": {
        "id": "wsq84yFjqwbE",
        "colab_type": "code",
        "colab": {}
      },
      "source": [
        "#-------------------------"
      ],
      "execution_count": 0,
      "outputs": []
    },
    {
      "cell_type": "code",
      "metadata": {
        "id": "A7zBXLAZhcMe",
        "colab_type": "code",
        "colab": {}
      },
      "source": [
        "#---test set\n",
        "test_df = pd.read_csv(prefix + 'test.csv', header=None)\n",
        "test_df.head()"
      ],
      "execution_count": 0,
      "outputs": []
    },
    {
      "cell_type": "code",
      "metadata": {
        "id": "4r6lDCTioUKH",
        "colab_type": "code",
        "outputId": "e0a23cc5-fa2a-4535-e6be-513de168b79c",
        "colab": {
          "base_uri": "https://localhost:8080/",
          "height": 36
        }
      },
      "source": [
        "print(test_df.shape)"
      ],
      "execution_count": 0,
      "outputs": [
        {
          "output_type": "stream",
          "text": [
            "(7600, 3)\n"
          ],
          "name": "stdout"
        }
      ]
    },
    {
      "cell_type": "code",
      "metadata": {
        "id": "Dtz2b3Tym5GZ",
        "colab_type": "code",
        "outputId": "40dca099-5b91-47ad-ab75-b6c67af6e860",
        "colab": {
          "base_uri": "https://localhost:8080/",
          "height": 206
        }
      },
      "source": [
        "#1change names columns test\n",
        "tdf_test = test_df.copy()\n",
        "tdf_test.rename(columns={0:'type', 1:'Title', 2:'Text'},inplace=True)\n",
        "tdf_test.head()"
      ],
      "execution_count": 0,
      "outputs": [
        {
          "output_type": "execute_result",
          "data": {
            "text/html": [
              "<div>\n",
              "<style scoped>\n",
              "    .dataframe tbody tr th:only-of-type {\n",
              "        vertical-align: middle;\n",
              "    }\n",
              "\n",
              "    .dataframe tbody tr th {\n",
              "        vertical-align: top;\n",
              "    }\n",
              "\n",
              "    .dataframe thead th {\n",
              "        text-align: right;\n",
              "    }\n",
              "</style>\n",
              "<table border=\"1\" class=\"dataframe\">\n",
              "  <thead>\n",
              "    <tr style=\"text-align: right;\">\n",
              "      <th></th>\n",
              "      <th>type</th>\n",
              "      <th>Title</th>\n",
              "      <th>Text</th>\n",
              "    </tr>\n",
              "  </thead>\n",
              "  <tbody>\n",
              "    <tr>\n",
              "      <th>0</th>\n",
              "      <td>3</td>\n",
              "      <td>Fears for T N pension after talks</td>\n",
              "      <td>Unions representing workers at Turner   Newall...</td>\n",
              "    </tr>\n",
              "    <tr>\n",
              "      <th>1</th>\n",
              "      <td>4</td>\n",
              "      <td>The Race is On: Second Private Team Sets Launc...</td>\n",
              "      <td>SPACE.com - TORONTO, Canada -- A second\\team o...</td>\n",
              "    </tr>\n",
              "    <tr>\n",
              "      <th>2</th>\n",
              "      <td>4</td>\n",
              "      <td>Ky. Company Wins Grant to Study Peptides (AP)</td>\n",
              "      <td>AP - A company founded by a chemistry research...</td>\n",
              "    </tr>\n",
              "    <tr>\n",
              "      <th>3</th>\n",
              "      <td>4</td>\n",
              "      <td>Prediction Unit Helps Forecast Wildfires (AP)</td>\n",
              "      <td>AP - It's barely dawn when Mike Fitzpatrick st...</td>\n",
              "    </tr>\n",
              "    <tr>\n",
              "      <th>4</th>\n",
              "      <td>4</td>\n",
              "      <td>Calif. Aims to Limit Farm-Related Smog (AP)</td>\n",
              "      <td>AP - Southern California's smog-fighting agenc...</td>\n",
              "    </tr>\n",
              "  </tbody>\n",
              "</table>\n",
              "</div>"
            ],
            "text/plain": [
              "   type                                              Title  \\\n",
              "0     3                  Fears for T N pension after talks   \n",
              "1     4  The Race is On: Second Private Team Sets Launc...   \n",
              "2     4      Ky. Company Wins Grant to Study Peptides (AP)   \n",
              "3     4      Prediction Unit Helps Forecast Wildfires (AP)   \n",
              "4     4        Calif. Aims to Limit Farm-Related Smog (AP)   \n",
              "\n",
              "                                                Text  \n",
              "0  Unions representing workers at Turner   Newall...  \n",
              "1  SPACE.com - TORONTO, Canada -- A second\\team o...  \n",
              "2  AP - A company founded by a chemistry research...  \n",
              "3  AP - It's barely dawn when Mike Fitzpatrick st...  \n",
              "4  AP - Southern California's smog-fighting agenc...  "
            ]
          },
          "metadata": {
            "tags": []
          },
          "execution_count": 368
        }
      ]
    },
    {
      "cell_type": "code",
      "metadata": {
        "id": "X7c5L_6noliz",
        "colab_type": "code",
        "outputId": "2d83239a-12df-4412-cca3-f39c198853ea",
        "colab": {
          "base_uri": "https://localhost:8080/",
          "height": 206
        }
      },
      "source": [
        "#2 concat columns (Title+Text) and dropout the rest\n",
        "import pandas as pd\n",
        "tdf_test[\"text\"] = tdf_test[\"Title\"] + ';' + tdf_test[\"Text\"]\n",
        "#tdf.head()\n",
        "tdf_test.drop([\"Title\", \"Text\"], axis=1, inplace=True)\n",
        "\n",
        "tdf_test.head()"
      ],
      "execution_count": 0,
      "outputs": [
        {
          "output_type": "execute_result",
          "data": {
            "text/html": [
              "<div>\n",
              "<style scoped>\n",
              "    .dataframe tbody tr th:only-of-type {\n",
              "        vertical-align: middle;\n",
              "    }\n",
              "\n",
              "    .dataframe tbody tr th {\n",
              "        vertical-align: top;\n",
              "    }\n",
              "\n",
              "    .dataframe thead th {\n",
              "        text-align: right;\n",
              "    }\n",
              "</style>\n",
              "<table border=\"1\" class=\"dataframe\">\n",
              "  <thead>\n",
              "    <tr style=\"text-align: right;\">\n",
              "      <th></th>\n",
              "      <th>type</th>\n",
              "      <th>text</th>\n",
              "    </tr>\n",
              "  </thead>\n",
              "  <tbody>\n",
              "    <tr>\n",
              "      <th>0</th>\n",
              "      <td>3</td>\n",
              "      <td>Fears for T N pension after talks;Unions repre...</td>\n",
              "    </tr>\n",
              "    <tr>\n",
              "      <th>1</th>\n",
              "      <td>4</td>\n",
              "      <td>The Race is On: Second Private Team Sets Launc...</td>\n",
              "    </tr>\n",
              "    <tr>\n",
              "      <th>2</th>\n",
              "      <td>4</td>\n",
              "      <td>Ky. Company Wins Grant to Study Peptides (AP);...</td>\n",
              "    </tr>\n",
              "    <tr>\n",
              "      <th>3</th>\n",
              "      <td>4</td>\n",
              "      <td>Prediction Unit Helps Forecast Wildfires (AP);...</td>\n",
              "    </tr>\n",
              "    <tr>\n",
              "      <th>4</th>\n",
              "      <td>4</td>\n",
              "      <td>Calif. Aims to Limit Farm-Related Smog (AP);AP...</td>\n",
              "    </tr>\n",
              "  </tbody>\n",
              "</table>\n",
              "</div>"
            ],
            "text/plain": [
              "   type                                               text\n",
              "0     3  Fears for T N pension after talks;Unions repre...\n",
              "1     4  The Race is On: Second Private Team Sets Launc...\n",
              "2     4  Ky. Company Wins Grant to Study Peptides (AP);...\n",
              "3     4  Prediction Unit Helps Forecast Wildfires (AP);...\n",
              "4     4  Calif. Aims to Limit Farm-Related Smog (AP);AP..."
            ]
          },
          "metadata": {
            "tags": []
          },
          "execution_count": 369
        }
      ]
    },
    {
      "cell_type": "code",
      "metadata": {
        "id": "HoZXTjXmm5OB",
        "colab_type": "code",
        "outputId": "32bdc45e-86ec-445c-f503-4dc505e925c3",
        "colab": {
          "base_uri": "https://localhost:8080/",
          "height": 277
        }
      },
      "source": [
        "#3convert All classes(1,2,3,4) in -> 0 (not-fake)\n",
        "tdf_test.loc[tdf_test['type'] == 1, 'type'] = '0'\n",
        "tdf_test.loc[tdf_test['type'] == 2, 'type'] = '0'\n",
        "tdf_test.loc[tdf_test['type'] == 3, 'type'] = '0'\n",
        "tdf_test.loc[tdf_test['type'] == 4, 'type'] = '0'\n",
        "print(tdf_test)"
      ],
      "execution_count": 0,
      "outputs": [
        {
          "output_type": "stream",
          "text": [
            "     type                                               text\n",
            "0       0  Fears for T N pension after talks;Unions repre...\n",
            "1       0  The Race is On: Second Private Team Sets Launc...\n",
            "2       0  Ky. Company Wins Grant to Study Peptides (AP);...\n",
            "3       0  Prediction Unit Helps Forecast Wildfires (AP);...\n",
            "4       0  Calif. Aims to Limit Farm-Related Smog (AP);AP...\n",
            "...   ...                                                ...\n",
            "7595    0  Around the world;Ukrainian presidential candid...\n",
            "7596    0  Void is filled with Clement;With the supply of...\n",
            "7597    0  Martinez leaves bitter;Like Roger Clemens did ...\n",
            "7598    0  5 of arthritis patients in Singapore take Bext...\n",
            "7599    0  EBay gets into rentals;EBay plans to buy the a...\n",
            "\n",
            "[7600 rows x 2 columns]\n"
          ],
          "name": "stdout"
        }
      ]
    },
    {
      "cell_type": "code",
      "metadata": {
        "id": "QvmQaimrm5Qo",
        "colab_type": "code",
        "outputId": "e19b0f09-c2b3-4a6f-b75e-0b9371cba681",
        "colab": {
          "base_uri": "https://localhost:8080/",
          "height": 36
        }
      },
      "source": [
        "from collections import Counter\n",
        "print(Counter(tdf_test['type'].values))"
      ],
      "execution_count": 0,
      "outputs": [
        {
          "output_type": "stream",
          "text": [
            "Counter({'0': 7600})\n"
          ],
          "name": "stdout"
        }
      ]
    },
    {
      "cell_type": "code",
      "metadata": {
        "id": "UfZPOQQ5m5Lw",
        "colab_type": "code",
        "colab": {}
      },
      "source": [
        "tdf_test.to_csv('./data/test2.csv', index=False)"
      ],
      "execution_count": 0,
      "outputs": []
    },
    {
      "cell_type": "code",
      "metadata": {
        "id": "fhVBMabcm5JQ",
        "colab_type": "code",
        "outputId": "2f1414c0-6c57-41cb-f274-f74b76c652ec",
        "colab": {
          "base_uri": "https://localhost:8080/",
          "height": 147
        }
      },
      "source": [
        "#print test2.csv\n",
        "test2 = pd.read_csv('./data/test2.csv')\n",
        "print(test2.head())\n",
        "print(test2.shape)"
      ],
      "execution_count": 0,
      "outputs": [
        {
          "output_type": "stream",
          "text": [
            "   type                                               text\n",
            "0     0  Fears for T N pension after talks;Unions repre...\n",
            "1     0  The Race is On: Second Private Team Sets Launc...\n",
            "2     0  Ky. Company Wins Grant to Study Peptides (AP);...\n",
            "3     0  Prediction Unit Helps Forecast Wildfires (AP);...\n",
            "4     0  Calif. Aims to Limit Farm-Related Smog (AP);AP...\n",
            "(7600, 2)\n"
          ],
          "name": "stdout"
        }
      ]
    },
    {
      "cell_type": "code",
      "metadata": {
        "id": "zONIWswxm5Dl",
        "colab_type": "code",
        "colab": {}
      },
      "source": [
        "#-------------------------------"
      ],
      "execution_count": 0,
      "outputs": []
    },
    {
      "cell_type": "code",
      "metadata": {
        "id": "gTy_gcm1sM7L",
        "colab_type": "code",
        "outputId": "37c4da9b-d7a2-4fbc-8261-62f24fe175dc",
        "colab": {
          "base_uri": "https://localhost:8080/",
          "height": 277
        }
      },
      "source": [
        "#Merge train1.csv(fake) with train2.csv(not-fake) and test1.csv(fake) with test2.csv(not-fake)\n",
        "train1 = pd.read_csv('./mergedir/train1.csv')\n",
        "print(train1.head())\n",
        "print(train1.shape)\n",
        "\n",
        "train2 = pd.read_csv('./mergedir/train2.csv')\n",
        "print(train2.head())\n",
        "print(train2.shape)"
      ],
      "execution_count": 0,
      "outputs": [
        {
          "output_type": "stream",
          "text": [
            "   type                                               text\n",
            "0     1  Report Copyright Violation Trump: No Salary fo...\n",
            "1     1  Your News Wire WikiLeaks Bombshell: ‘There Is ...\n",
            "2     1    reports on What You Need to Know About the '...\n",
            "3     1  The second video (bottom one ) proves what Tru...\n",
            "4     1  “Chapo Trap House”: New Left-Wing Podcast is a...\n",
            "(10399, 2)\n",
            "   type                                               text\n",
            "0     0  Wall St. Bears Claw Back Into the Black (Reute...\n",
            "1     0  Carlyle Looks Toward Commercial Aerospace (Reu...\n",
            "2     0  Oil and Economy Cloud Stocks' Outlook (Reuters...\n",
            "3     0  Iraq Halts Oil Exports from Main Southern Pipe...\n",
            "4     0  Oil prices soar to all-time record, posing new...\n",
            "(120000, 2)\n"
          ],
          "name": "stdout"
        }
      ]
    },
    {
      "cell_type": "code",
      "metadata": {
        "id": "G_kOvwhQs2CE",
        "colab_type": "code",
        "outputId": "b754d31c-7b03-47ef-b693-6a173199d243",
        "colab": {
          "base_uri": "https://localhost:8080/",
          "height": 36
        }
      },
      "source": [
        "#Concat training set\n",
        "frames = [train1, train2]\n",
        "train = pd.concat(frames,ignore_index=True)\n",
        "print(train.shape)"
      ],
      "execution_count": 0,
      "outputs": [
        {
          "output_type": "stream",
          "text": [
            "(130399, 2)\n"
          ],
          "name": "stdout"
        }
      ]
    },
    {
      "cell_type": "code",
      "metadata": {
        "id": "Wh7StL7iwn-E",
        "colab_type": "code",
        "outputId": "76612115-4297-47d0-ebe4-e9c038879cdd",
        "colab": {
          "base_uri": "https://localhost:8080/",
          "height": 206
        }
      },
      "source": [
        "train.head()"
      ],
      "execution_count": 0,
      "outputs": [
        {
          "output_type": "execute_result",
          "data": {
            "text/html": [
              "<div>\n",
              "<style scoped>\n",
              "    .dataframe tbody tr th:only-of-type {\n",
              "        vertical-align: middle;\n",
              "    }\n",
              "\n",
              "    .dataframe tbody tr th {\n",
              "        vertical-align: top;\n",
              "    }\n",
              "\n",
              "    .dataframe thead th {\n",
              "        text-align: right;\n",
              "    }\n",
              "</style>\n",
              "<table border=\"1\" class=\"dataframe\">\n",
              "  <thead>\n",
              "    <tr style=\"text-align: right;\">\n",
              "      <th></th>\n",
              "      <th>type</th>\n",
              "      <th>text</th>\n",
              "    </tr>\n",
              "  </thead>\n",
              "  <tbody>\n",
              "    <tr>\n",
              "      <th>0</th>\n",
              "      <td>1</td>\n",
              "      <td>Report Copyright Violation Trump: No Salary fo...</td>\n",
              "    </tr>\n",
              "    <tr>\n",
              "      <th>1</th>\n",
              "      <td>1</td>\n",
              "      <td>Your News Wire WikiLeaks Bombshell: ‘There Is ...</td>\n",
              "    </tr>\n",
              "    <tr>\n",
              "      <th>2</th>\n",
              "      <td>1</td>\n",
              "      <td>reports on What You Need to Know About the '...</td>\n",
              "    </tr>\n",
              "    <tr>\n",
              "      <th>3</th>\n",
              "      <td>1</td>\n",
              "      <td>The second video (bottom one ) proves what Tru...</td>\n",
              "    </tr>\n",
              "    <tr>\n",
              "      <th>4</th>\n",
              "      <td>1</td>\n",
              "      <td>“Chapo Trap House”: New Left-Wing Podcast is a...</td>\n",
              "    </tr>\n",
              "  </tbody>\n",
              "</table>\n",
              "</div>"
            ],
            "text/plain": [
              "   type                                               text\n",
              "0     1  Report Copyright Violation Trump: No Salary fo...\n",
              "1     1  Your News Wire WikiLeaks Bombshell: ‘There Is ...\n",
              "2     1    reports on What You Need to Know About the '...\n",
              "3     1  The second video (bottom one ) proves what Tru...\n",
              "4     1  “Chapo Trap House”: New Left-Wing Podcast is a..."
            ]
          },
          "metadata": {
            "tags": []
          },
          "execution_count": 377
        }
      ]
    },
    {
      "cell_type": "code",
      "metadata": {
        "id": "6jtYTAVgvZZH",
        "colab_type": "code",
        "colab": {}
      },
      "source": [
        "print(train.iloc[[10398]])\n",
        "print(train.iloc[[10399]])\n",
        "print(train.iloc[[10400]])\n",
        "print(train.iloc[[134]])"
      ],
      "execution_count": 0,
      "outputs": []
    },
    {
      "cell_type": "code",
      "metadata": {
        "id": "_osYJFjcvZcM",
        "colab_type": "code",
        "colab": {}
      },
      "source": [
        "train.tail()"
      ],
      "execution_count": 0,
      "outputs": []
    },
    {
      "cell_type": "code",
      "metadata": {
        "id": "hYacpvZXvZgJ",
        "colab_type": "code",
        "colab": {}
      },
      "source": [
        "#shuffle rows\n",
        "#train = train.reindex(np.random.permutation(train.index))\n",
        "#train.head()\n"
      ],
      "execution_count": 0,
      "outputs": []
    },
    {
      "cell_type": "code",
      "metadata": {
        "id": "HN99ttuEyYVl",
        "colab_type": "code",
        "outputId": "a322fc39-f088-446d-ff01-775d0d47cf62",
        "colab": {
          "base_uri": "https://localhost:8080/",
          "height": 36
        }
      },
      "source": [
        "train.shape"
      ],
      "execution_count": 0,
      "outputs": [
        {
          "output_type": "execute_result",
          "data": {
            "text/plain": [
              "(130399, 2)"
            ]
          },
          "metadata": {
            "tags": []
          },
          "execution_count": 380
        }
      ]
    },
    {
      "cell_type": "code",
      "metadata": {
        "id": "kV-MPWyryYSd",
        "colab_type": "code",
        "outputId": "d5b03755-3913-4792-e033-a45692d60c86",
        "colab": {
          "base_uri": "https://localhost:8080/",
          "height": 206
        }
      },
      "source": [
        "train.tail()"
      ],
      "execution_count": 0,
      "outputs": [
        {
          "output_type": "execute_result",
          "data": {
            "text/html": [
              "<div>\n",
              "<style scoped>\n",
              "    .dataframe tbody tr th:only-of-type {\n",
              "        vertical-align: middle;\n",
              "    }\n",
              "\n",
              "    .dataframe tbody tr th {\n",
              "        vertical-align: top;\n",
              "    }\n",
              "\n",
              "    .dataframe thead th {\n",
              "        text-align: right;\n",
              "    }\n",
              "</style>\n",
              "<table border=\"1\" class=\"dataframe\">\n",
              "  <thead>\n",
              "    <tr style=\"text-align: right;\">\n",
              "      <th></th>\n",
              "      <th>type</th>\n",
              "      <th>text</th>\n",
              "    </tr>\n",
              "  </thead>\n",
              "  <tbody>\n",
              "    <tr>\n",
              "      <th>130394</th>\n",
              "      <td>0</td>\n",
              "      <td>Pakistan's Musharraf Says Won't Quit as Army C...</td>\n",
              "    </tr>\n",
              "    <tr>\n",
              "      <th>130395</th>\n",
              "      <td>0</td>\n",
              "      <td>Renteria signing a top-shelf deal;Red Sox gene...</td>\n",
              "    </tr>\n",
              "    <tr>\n",
              "      <th>130396</th>\n",
              "      <td>0</td>\n",
              "      <td>Saban not going to Dolphins yet;The Miami Dolp...</td>\n",
              "    </tr>\n",
              "    <tr>\n",
              "      <th>130397</th>\n",
              "      <td>0</td>\n",
              "      <td>Today's NFL games;PITTSBURGH at NY GIANTS Time...</td>\n",
              "    </tr>\n",
              "    <tr>\n",
              "      <th>130398</th>\n",
              "      <td>0</td>\n",
              "      <td>Nets get Carter from Raptors;INDIANAPOLIS -- A...</td>\n",
              "    </tr>\n",
              "  </tbody>\n",
              "</table>\n",
              "</div>"
            ],
            "text/plain": [
              "        type                                               text\n",
              "130394     0  Pakistan's Musharraf Says Won't Quit as Army C...\n",
              "130395     0  Renteria signing a top-shelf deal;Red Sox gene...\n",
              "130396     0  Saban not going to Dolphins yet;The Miami Dolp...\n",
              "130397     0  Today's NFL games;PITTSBURGH at NY GIANTS Time...\n",
              "130398     0  Nets get Carter from Raptors;INDIANAPOLIS -- A..."
            ]
          },
          "metadata": {
            "tags": []
          },
          "execution_count": 381
        }
      ]
    },
    {
      "cell_type": "code",
      "metadata": {
        "id": "1T2Hqi0spUUf",
        "colab_type": "code",
        "colab": {}
      },
      "source": [
        "#Save final training set\n",
        "train.to_csv('./mergedir/train.csv', index=False)"
      ],
      "execution_count": 0,
      "outputs": []
    },
    {
      "cell_type": "code",
      "metadata": {
        "id": "KgpQFiHE0-4U",
        "colab_type": "code",
        "outputId": "9d00fbc9-b72f-47b1-a1e0-3c365d2fde49",
        "colab": {
          "base_uri": "https://localhost:8080/",
          "height": 277
        }
      },
      "source": [
        "#Final operation test set\n",
        "#\n",
        "#1 merge test set\n",
        "test1 = pd.read_csv('./mergedir/test1.csv')\n",
        "print(test1.head())\n",
        "print(test1.shape)\n",
        "\n",
        "test2 = pd.read_csv('./mergedir/test2.csv')\n",
        "print(test2.head())\n",
        "print(test2.shape)"
      ],
      "execution_count": 0,
      "outputs": [
        {
          "output_type": "stream",
          "text": [
            "   type                                               text\n",
            "0     1  “I am a person of faith. I am a Christian. I a...\n",
            "1     1  Gardasil Vaccine Given without Consent and Rui...\n",
            "2     1  No Search Warrant Yet: FBI Can’t Move On Email...\n",
            "3     1  Only 3 Countries Left Without a ROTHSCHILD Cen...\n",
            "4     1  Waking Times \\n“Does anyone even know why we e...\n",
            "(2600, 2)\n",
            "   type                                               text\n",
            "0     0  Fears for T N pension after talks;Unions repre...\n",
            "1     0  The Race is On: Second Private Team Sets Launc...\n",
            "2     0  Ky. Company Wins Grant to Study Peptides (AP);...\n",
            "3     0  Prediction Unit Helps Forecast Wildfires (AP);...\n",
            "4     0  Calif. Aims to Limit Farm-Related Smog (AP);AP...\n",
            "(7600, 2)\n"
          ],
          "name": "stdout"
        }
      ]
    },
    {
      "cell_type": "code",
      "metadata": {
        "id": "FlEpZ3G-1W5A",
        "colab_type": "code",
        "outputId": "8981a93c-55d7-45ab-b48a-9d20a4d2d756",
        "colab": {
          "base_uri": "https://localhost:8080/",
          "height": 36
        }
      },
      "source": [
        "#2 concat set\n",
        "frames = [test1, test2]\n",
        "test = pd.concat(frames, ignore_index=True)\n",
        "print(test.shape)"
      ],
      "execution_count": 0,
      "outputs": [
        {
          "output_type": "stream",
          "text": [
            "(10200, 2)\n"
          ],
          "name": "stdout"
        }
      ]
    },
    {
      "cell_type": "code",
      "metadata": {
        "id": "w3asYRiU1s68",
        "colab_type": "code",
        "outputId": "90465b2c-047f-4e18-bf1e-e1355c3474d9",
        "colab": {
          "base_uri": "https://localhost:8080/",
          "height": 206
        }
      },
      "source": [
        "test.head()"
      ],
      "execution_count": 0,
      "outputs": [
        {
          "output_type": "execute_result",
          "data": {
            "text/html": [
              "<div>\n",
              "<style scoped>\n",
              "    .dataframe tbody tr th:only-of-type {\n",
              "        vertical-align: middle;\n",
              "    }\n",
              "\n",
              "    .dataframe tbody tr th {\n",
              "        vertical-align: top;\n",
              "    }\n",
              "\n",
              "    .dataframe thead th {\n",
              "        text-align: right;\n",
              "    }\n",
              "</style>\n",
              "<table border=\"1\" class=\"dataframe\">\n",
              "  <thead>\n",
              "    <tr style=\"text-align: right;\">\n",
              "      <th></th>\n",
              "      <th>type</th>\n",
              "      <th>text</th>\n",
              "    </tr>\n",
              "  </thead>\n",
              "  <tbody>\n",
              "    <tr>\n",
              "      <th>0</th>\n",
              "      <td>1</td>\n",
              "      <td>“I am a person of faith. I am a Christian. I a...</td>\n",
              "    </tr>\n",
              "    <tr>\n",
              "      <th>1</th>\n",
              "      <td>1</td>\n",
              "      <td>Gardasil Vaccine Given without Consent and Rui...</td>\n",
              "    </tr>\n",
              "    <tr>\n",
              "      <th>2</th>\n",
              "      <td>1</td>\n",
              "      <td>No Search Warrant Yet: FBI Can’t Move On Email...</td>\n",
              "    </tr>\n",
              "    <tr>\n",
              "      <th>3</th>\n",
              "      <td>1</td>\n",
              "      <td>Only 3 Countries Left Without a ROTHSCHILD Cen...</td>\n",
              "    </tr>\n",
              "    <tr>\n",
              "      <th>4</th>\n",
              "      <td>1</td>\n",
              "      <td>Waking Times \\n“Does anyone even know why we e...</td>\n",
              "    </tr>\n",
              "  </tbody>\n",
              "</table>\n",
              "</div>"
            ],
            "text/plain": [
              "   type                                               text\n",
              "0     1  “I am a person of faith. I am a Christian. I a...\n",
              "1     1  Gardasil Vaccine Given without Consent and Rui...\n",
              "2     1  No Search Warrant Yet: FBI Can’t Move On Email...\n",
              "3     1  Only 3 Countries Left Without a ROTHSCHILD Cen...\n",
              "4     1  Waking Times \\n“Does anyone even know why we e..."
            ]
          },
          "metadata": {
            "tags": []
          },
          "execution_count": 385
        }
      ]
    },
    {
      "cell_type": "code",
      "metadata": {
        "id": "Mwpmhxt71xPV",
        "colab_type": "code",
        "outputId": "3a5af2e4-eeab-4488-8dd4-bdb85127854b",
        "colab": {
          "base_uri": "https://localhost:8080/",
          "height": 128
        }
      },
      "source": [
        "print(test.iloc[[2599]])\n",
        "print(test.iloc[[2600]])\n",
        "print(test.iloc[[2601]])"
      ],
      "execution_count": 0,
      "outputs": [
        {
          "output_type": "stream",
          "text": [
            "      type text\n",
            "2599     1     \n",
            "      type                                               text\n",
            "2600     0  Fears for T N pension after talks;Unions repre...\n",
            "      type                                               text\n",
            "2601     0  The Race is On: Second Private Team Sets Launc...\n"
          ],
          "name": "stdout"
        }
      ]
    },
    {
      "cell_type": "code",
      "metadata": {
        "id": "K0oO69Do2EOu",
        "colab_type": "code",
        "outputId": "6001342d-43b5-4bbc-bf31-e834ea64694c",
        "colab": {
          "base_uri": "https://localhost:8080/",
          "height": 206
        }
      },
      "source": [
        "test.tail()"
      ],
      "execution_count": 0,
      "outputs": [
        {
          "output_type": "execute_result",
          "data": {
            "text/html": [
              "<div>\n",
              "<style scoped>\n",
              "    .dataframe tbody tr th:only-of-type {\n",
              "        vertical-align: middle;\n",
              "    }\n",
              "\n",
              "    .dataframe tbody tr th {\n",
              "        vertical-align: top;\n",
              "    }\n",
              "\n",
              "    .dataframe thead th {\n",
              "        text-align: right;\n",
              "    }\n",
              "</style>\n",
              "<table border=\"1\" class=\"dataframe\">\n",
              "  <thead>\n",
              "    <tr style=\"text-align: right;\">\n",
              "      <th></th>\n",
              "      <th>type</th>\n",
              "      <th>text</th>\n",
              "    </tr>\n",
              "  </thead>\n",
              "  <tbody>\n",
              "    <tr>\n",
              "      <th>10195</th>\n",
              "      <td>0</td>\n",
              "      <td>Around the world;Ukrainian presidential candid...</td>\n",
              "    </tr>\n",
              "    <tr>\n",
              "      <th>10196</th>\n",
              "      <td>0</td>\n",
              "      <td>Void is filled with Clement;With the supply of...</td>\n",
              "    </tr>\n",
              "    <tr>\n",
              "      <th>10197</th>\n",
              "      <td>0</td>\n",
              "      <td>Martinez leaves bitter;Like Roger Clemens did ...</td>\n",
              "    </tr>\n",
              "    <tr>\n",
              "      <th>10198</th>\n",
              "      <td>0</td>\n",
              "      <td>5 of arthritis patients in Singapore take Bext...</td>\n",
              "    </tr>\n",
              "    <tr>\n",
              "      <th>10199</th>\n",
              "      <td>0</td>\n",
              "      <td>EBay gets into rentals;EBay plans to buy the a...</td>\n",
              "    </tr>\n",
              "  </tbody>\n",
              "</table>\n",
              "</div>"
            ],
            "text/plain": [
              "       type                                               text\n",
              "10195     0  Around the world;Ukrainian presidential candid...\n",
              "10196     0  Void is filled with Clement;With the supply of...\n",
              "10197     0  Martinez leaves bitter;Like Roger Clemens did ...\n",
              "10198     0  5 of arthritis patients in Singapore take Bext...\n",
              "10199     0  EBay gets into rentals;EBay plans to buy the a..."
            ]
          },
          "metadata": {
            "tags": []
          },
          "execution_count": 388
        }
      ]
    },
    {
      "cell_type": "code",
      "metadata": {
        "id": "8h8im_cS2VwW",
        "colab_type": "code",
        "colab": {}
      },
      "source": [
        "#Save final training set\n",
        "test.to_csv('./mergedir/test.csv', index=False)"
      ],
      "execution_count": 0,
      "outputs": []
    }
  ]
}